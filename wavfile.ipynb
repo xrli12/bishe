{
 "cells": [
  {
   "cell_type": "code",
   "execution_count": 2,
   "metadata": {},
   "outputs": [],
   "source": [
    "import keras\n",
    "from keras.datasets import mnist\n",
    "from keras.models import Sequential\n",
    "from keras.layers import Dense,Dropout,Flatten,Conv2D, MaxPooling2D\n",
    "from keras import backend as K"
   ]
  },
  {
   "cell_type": "code",
   "execution_count": 24,
   "metadata": {},
   "outputs": [],
   "source": [
    "(x_train,y_train),(x_test,y_test)=mnist.load_data()"
   ]
  },
  {
   "cell_type": "code",
   "execution_count": 14,
   "metadata": {},
   "outputs": [
    {
     "data": {
      "image/png": "[encoded data removed]",
      "text/plain": [
       "<Figure size 432x288 with 1 Axes>"
      ]
     },
     "metadata": {
      "needs_background": "light"
     },
     "output_type": "display_data"
    }
   ],
   "source": [
    "import matplotlib.pyplot as plt\n",
    "plt.imshow(x_train[10,:,:],'gray')\n",
    "plt.show()"
   ]
  },
  {
   "cell_type": "code",
   "execution_count": 25,
   "metadata": {},
   "outputs": [],
   "source": [
    "x_train=x_train.reshape(*x_train.shape,1)"
   ]
  },
  {
   "cell_type": "code",
   "execution_count": 28,
   "metadata": {},
   "outputs": [],
   "source": [
    "x_test=x_test.reshape(*x_test.shape,1)"
   ]
  },
  {
   "cell_type": "code",
   "execution_count": 40,
   "metadata": {},
   "outputs": [],
   "source": [
    "x_train=x_train/255\n",
    "x_test=x_test/255"
   ]
  },
  {
   "cell_type": "code",
   "execution_count": 33,
   "metadata": {},
   "outputs": [],
   "source": [
    "y_train=keras.utils.to_categorical(y_train,10)\n",
    "y_test=keras.utils.to_categorical(y_test,10)"
   ]
  },
  {
   "cell_type": "code",
   "execution_count": 44,
   "metadata": {},
   "outputs": [
    {
     "name": "stdout",
     "output_type": "stream",
     "text": [
      "WARNING:tensorflow:From C:\\Users\\Forre\\Anaconda3\\lib\\site-packages\\keras\\backend\\tensorflow_backend.py:133: The name tf.placeholder_with_default is deprecated. Please use tf.compat.v1.placeholder_with_default instead.\n",
      "\n",
      "WARNING:tensorflow:From C:\\Users\\Forre\\Anaconda3\\lib\\site-packages\\keras\\backend\\tensorflow_backend.py:3445: calling dropout (from tensorflow.python.ops.nn_ops) with keep_prob is deprecated and will be removed in a future version.\n",
      "Instructions for updating:\n",
      "Please use `rate` instead of `keep_prob`. Rate should be set to `rate = 1 - keep_prob`.\n",
      "WARNING:tensorflow:From C:\\Users\\Forre\\Anaconda3\\lib\\site-packages\\keras\\optimizers.py:790: The name tf.train.Optimizer is deprecated. Please use tf.compat.v1.train.Optimizer instead.\n",
      "\n",
      "WARNING:tensorflow:From C:\\Users\\Forre\\Anaconda3\\lib\\site-packages\\keras\\backend\\tensorflow_backend.py:3295: The name tf.log is deprecated. Please use tf.math.log instead.\n",
      "\n"
     ]
    }
   ],
   "source": [
    "model=Sequential()\n",
    "model.add(Conv2D(32,kernel_size=(3,3),activation='relu',input_shape=(28,28,1)))\n",
    "model.add(MaxPooling2D(pool_size=(2,2)))\n",
    "model.add(Conv2D(64,kernel_size=(3,3),activation='relu'))\n",
    "model.add(MaxPooling2D(pool_size=(2,2)))\n",
    "model.add(Dropout(0.25))\n",
    "model.add(Flatten())\n",
    "model.add(Dense(128,activation='relu'))\n",
    "model.add(Dropout(0.5))\n",
    "model.add(Dense(10,activation='softmax'))\n",
    "model.compile(loss=keras.losses.categorical_crossentropy,optimizer=keras.optimizers.Adadelta(),\\\n",
    "             metrics=['accuracy'])\n"
   ]
  },
  {
   "cell_type": "code",
   "execution_count": 45,
   "metadata": {},
   "outputs": [
    {
     "name": "stdout",
     "output_type": "stream",
     "text": [
      "WARNING:tensorflow:From C:\\Users\\Forre\\Anaconda3\\lib\\site-packages\\tensorflow_core\\python\\ops\\math_grad.py:1424: where (from tensorflow.python.ops.array_ops) is deprecated and will be removed in a future version.\n",
      "Instructions for updating:\n",
      "Use tf.where in 2.0, which has the same broadcast rule as np.where\n",
      "WARNING:tensorflow:From C:\\Users\\Forre\\Anaconda3\\lib\\site-packages\\keras\\backend\\tensorflow_backend.py:986: The name tf.assign_add is deprecated. Please use tf.compat.v1.assign_add instead.\n",
      "\n",
      "WARNING:tensorflow:From C:\\Users\\Forre\\Anaconda3\\lib\\site-packages\\keras\\backend\\tensorflow_backend.py:973: The name tf.assign is deprecated. Please use tf.compat.v1.assign instead.\n",
      "\n",
      "WARNING:tensorflow:From C:\\Users\\Forre\\Anaconda3\\lib\\site-packages\\keras\\backend\\tensorflow_backend.py:2741: The name tf.Session is deprecated. Please use tf.compat.v1.Session instead.\n",
      "\n",
      "Train on 60000 samples, validate on 10000 samples\n",
      "Epoch 1/30\n",
      "WARNING:tensorflow:From C:\\Users\\Forre\\Anaconda3\\lib\\site-packages\\keras\\backend\\tensorflow_backend.py:174: The name tf.get_default_session is deprecated. Please use tf.compat.v1.get_default_session instead.\n",
      "\n",
      "WARNING:tensorflow:From C:\\Users\\Forre\\Anaconda3\\lib\\site-packages\\keras\\backend\\tensorflow_backend.py:181: The name tf.ConfigProto is deprecated. Please use tf.compat.v1.ConfigProto instead.\n",
      "\n",
      "WARNING:tensorflow:From C:\\Users\\Forre\\Anaconda3\\lib\\site-packages\\keras\\backend\\tensorflow_backend.py:190: The name tf.global_variables is deprecated. Please use tf.compat.v1.global_variables instead.\n",
      "\n",
      "WARNING:tensorflow:From C:\\Users\\Forre\\Anaconda3\\lib\\site-packages\\keras\\backend\\tensorflow_backend.py:199: The name tf.is_variable_initialized is deprecated. Please use tf.compat.v1.is_variable_initialized instead.\n",
      "\n",
      "WARNING:tensorflow:From C:\\Users\\Forre\\Anaconda3\\lib\\site-packages\\keras\\backend\\tensorflow_backend.py:206: The name tf.variables_initializer is deprecated. Please use tf.compat.v1.variables_initializer instead.\n",
      "\n",
      "60000/60000 [==============================] - 71s 1ms/step - loss: 0.2041 - acc: 0.9381 - val_loss: 0.0507 - val_acc: 0.9836\n",
      "Epoch 2/30\n",
      "60000/60000 [==============================] - 65s 1ms/step - loss: 0.0815 - acc: 0.9760 - val_loss: 0.0363 - val_acc: 0.9885\n",
      "Epoch 3/30\n",
      "60000/60000 [==============================] - 65s 1ms/step - loss: 0.0632 - acc: 0.9810 - val_loss: 0.0318 - val_acc: 0.9891\n",
      "Epoch 4/30\n",
      "60000/60000 [==============================] - 65s 1ms/step - loss: 0.0541 - acc: 0.9837 - val_loss: 0.0287 - val_acc: 0.9897\n",
      "Epoch 5/30\n",
      "60000/60000 [==============================] - 68s 1ms/step - loss: 0.0478 - acc: 0.9858 - val_loss: 0.0268 - val_acc: 0.9902\n",
      "Epoch 6/30\n",
      "60000/60000 [==============================] - 69s 1ms/step - loss: 0.0446 - acc: 0.9860 - val_loss: 0.0241 - val_acc: 0.9919\n",
      "Epoch 7/30\n",
      "60000/60000 [==============================] - 68s 1ms/step - loss: 0.0419 - acc: 0.9874 - val_loss: 0.0250 - val_acc: 0.9923\n",
      "Epoch 8/30\n",
      "60000/60000 [==============================] - 76s 1ms/step - loss: 0.0409 - acc: 0.9886 - val_loss: 0.0227 - val_acc: 0.9919\n",
      "Epoch 9/30\n",
      "60000/60000 [==============================] - 63s 1ms/step - loss: 0.0398 - acc: 0.9886 - val_loss: 0.0281 - val_acc: 0.9908\n",
      "Epoch 10/30\n",
      "60000/60000 [==============================] - 67s 1ms/step - loss: 0.0375 - acc: 0.9888 - val_loss: 0.0231 - val_acc: 0.9925\n",
      "Epoch 11/30\n",
      "60000/60000 [==============================] - 95s 2ms/step - loss: 0.0350 - acc: 0.9897 - val_loss: 0.0261 - val_acc: 0.9918\n",
      "Epoch 12/30\n",
      "60000/60000 [==============================] - 100s 2ms/step - loss: 0.0376 - acc: 0.9898 - val_loss: 0.0243 - val_acc: 0.9918\n",
      "Epoch 13/30\n",
      "60000/60000 [==============================] - 100s 2ms/step - loss: 0.0359 - acc: 0.9895 - val_loss: 0.0266 - val_acc: 0.9915\n",
      "Epoch 14/30\n",
      "60000/60000 [==============================] - 99s 2ms/step - loss: 0.0348 - acc: 0.9898 - val_loss: 0.0242 - val_acc: 0.9929\n",
      "Epoch 15/30\n",
      "60000/60000 [==============================] - 85s 1ms/step - loss: 0.0361 - acc: 0.9899 - val_loss: 0.0279 - val_acc: 0.9908\n",
      "Epoch 16/30\n",
      "60000/60000 [==============================] - 99s 2ms/step - loss: 0.0353 - acc: 0.9897 - val_loss: 0.0247 - val_acc: 0.9921\n",
      "Epoch 17/30\n",
      "60000/60000 [==============================] - 99s 2ms/step - loss: 0.0328 - acc: 0.9904 - val_loss: 0.0237 - val_acc: 0.9933\n",
      "Epoch 18/30\n",
      "60000/60000 [==============================] - 101s 2ms/step - loss: 0.0344 - acc: 0.9902 - val_loss: 0.0229 - val_acc: 0.9929\n",
      "Epoch 19/30\n",
      "60000/60000 [==============================] - 89s 1ms/step - loss: 0.0352 - acc: 0.9903 - val_loss: 0.0246 - val_acc: 0.9909\n",
      "Epoch 20/30\n",
      "60000/60000 [==============================] - 67s 1ms/step - loss: 0.0348 - acc: 0.9901 - val_loss: 0.0247 - val_acc: 0.9931\n",
      "Epoch 21/30\n",
      "60000/60000 [==============================] - 64s 1ms/step - loss: 0.0342 - acc: 0.9900 - val_loss: 0.0294 - val_acc: 0.9920\n",
      "Epoch 22/30\n",
      "60000/60000 [==============================] - 65s 1ms/step - loss: 0.0341 - acc: 0.9902 - val_loss: 0.0288 - val_acc: 0.9908c:  - ETA: 3s - loss: 0.\n",
      "Epoch 23/30\n",
      "60000/60000 [==============================] - 70s 1ms/step - loss: 0.0343 - acc: 0.9905 - val_loss: 0.0233 - val_acc: 0.9928\n",
      "Epoch 24/30\n",
      "60000/60000 [==============================] - 81s 1ms/step - loss: 0.0329 - acc: 0.9910 - val_loss: 0.0246 - val_acc: 0.9924\n",
      "Epoch 25/30\n",
      "60000/60000 [==============================] - 40s 663us/step - loss: 0.0337 - acc: 0.9901 - val_loss: 0.0275 - val_acc: 0.9932\n",
      "Epoch 26/30\n",
      "60000/60000 [==============================] - 40s 662us/step - loss: 0.0308 - acc: 0.9912 - val_loss: 0.0299 - val_acc: 0.9917\n",
      "Epoch 27/30\n",
      "60000/60000 [==============================] - 42s 703us/step - loss: 0.0330 - acc: 0.9907 - val_loss: 0.0294 - val_acc: 0.9917\n",
      "Epoch 28/30\n",
      "60000/60000 [==============================] - 47s 776us/step - loss: 0.0333 - acc: 0.9903 - val_loss: 0.0284 - val_acc: 0.9929\n",
      "Epoch 29/30\n",
      "60000/60000 [==============================] - 43s 713us/step - loss: 0.0327 - acc: 0.9910 - val_loss: 0.0244 - val_acc: 0.9925\n",
      "Epoch 30/30\n",
      "60000/60000 [==============================] - 41s 677us/step - loss: 0.0307 - acc: 0.9913 - val_loss: 0.0231 - val_acc: 0.9932\n"
     ]
    },
    {
     "data": {
      "text/plain": [
       "<keras.callbacks.History at 0x1a60d8c58d0>"
      ]
     },
     "execution_count": 45,
     "metadata": {},
     "output_type": "execute_result"
    }
   ],
   "source": [
    "model.fit(x_train,y_train,validation_data=(x_test,y_test),epochs=30)"
   ]
  },
  {
   "cell_type": "code",
   "execution_count": 46,
   "metadata": {},
   "outputs": [
    {
     "name": "stdout",
     "output_type": "stream",
     "text": [
      "Test loss: 0.0230810481288936\n",
      "Test accuracy: 0.9932\n"
     ]
    }
   ],
   "source": [
    "score = model.evaluate(x_test, y_test, verbose=0)\n",
    "print('Test loss:', score[0])\n",
    "print('Test accuracy:', score[1])"
   ]
  }
 ],
 "metadata": {
  "kernelspec": {
   "display_name": "Python 3",
   "language": "python",
   "name": "python3"
  },
  "language_info": {
   "codemirror_mode": {
    "name": "ipython",
    "version": 3
   },
   "file_extension": ".py",
   "mimetype": "text/x-python",
   "name": "python",
   "nbconvert_exporter": "python",
   "pygments_lexer": "ipython3",
   "version": "3.7.3"
  }
 },
 "nbformat": 4,
 "nbformat_minor": 2
}
